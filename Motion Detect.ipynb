{
 "cells": [
  {
   "cell_type": "code",
   "execution_count": 2,
   "metadata": {},
   "outputs": [],
   "source": [
    "import cv2\n",
    "cap = cv2.VideoCapture(0)"
   ]
  },
  {
   "cell_type": "code",
   "execution_count": 3,
   "metadata": {},
   "outputs": [],
   "source": [
    "tp1=cap.read()[1]\n",
    "tp2=cap.read()[1]\n",
    "tp3=cap.read()[1]\n",
    "\n",
    "#grayscale\n",
    "gray1=cv2.cvtColor(tp1,cv2.COLOR_BGR2GRAY)\n",
    "gray2=cv2.cvtColor(tp2,cv2.COLOR_BGR2GRAY)\n",
    "gray3=cv2.cvtColor(tp3,cv2.COLOR_BGR2GRAY)\n",
    "\n",
    "\n",
    "def image_diff(x,y,z):\n",
    "    imgdiff1=cv2.absdiff(x,y)\n",
    "    imgdiff2=cv2.absdiff(y,z)\n",
    "    finalimgdiff=cv2.bitwise_and(imgdiff1,imgdiff2)\n",
    "    return finalimgdiff\n",
    "\n",
    "\n",
    "while cap.isOpened():\n",
    "    status,frame=cap.read()\n",
    "    image_abs=image_diff(gray1,gray2,gray3)  \n",
    "    gray1=gray2\n",
    "    gray2=gray3\n",
    "    cv2.imshow('motion',frame)\n",
    "    cv2.imshow('gray',image_abs)\n",
    "    if cv2.waitKey(25) & 0xff==ord('q'):\n",
    "        break\n",
    "        \n",
    "cv2.destroyAllWindows()\n",
    "cap.release()"
   ]
  },
  {
   "cell_type": "code",
   "execution_count": null,
   "metadata": {},
   "outputs": [],
   "source": []
  }
 ],
 "metadata": {
  "kernelspec": {
   "display_name": "Python 3",
   "language": "python",
   "name": "python3"
  },
  "language_info": {
   "codemirror_mode": {
    "name": "ipython",
    "version": 3
   },
   "file_extension": ".py",
   "mimetype": "text/x-python",
   "name": "python",
   "nbconvert_exporter": "python",
   "pygments_lexer": "ipython3",
   "version": "3.6.4"
  }
 },
 "nbformat": 4,
 "nbformat_minor": 2
}
