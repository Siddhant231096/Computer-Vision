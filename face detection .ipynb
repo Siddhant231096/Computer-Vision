{
 "cells": [
  {
   "cell_type": "code",
   "execution_count": 1,
   "metadata": {},
   "outputs": [],
   "source": [
    "import cv2\n",
    "import webbrowser as web\n",
    "facehaar=cv2.CascadeClassifier('facecascade.xml')"
   ]
  },
  {
   "cell_type": "markdown",
   "metadata": {},
   "source": [
    "# Face detection using image"
   ]
  },
  {
   "cell_type": "code",
   "execution_count": 2,
   "metadata": {},
   "outputs": [],
   "source": [
    "# loading face trained data\n"
   ]
  },
  {
   "cell_type": "code",
   "execution_count": 3,
   "metadata": {},
   "outputs": [
    {
     "name": "stdout",
     "output_type": "stream",
     "text": [
      "(960, 1280, 3)\n"
     ]
    }
   ],
   "source": [
    "# image scale   operate all operation \n",
    "\n",
    "\n",
    "my_img=cv2.imread('photo1.JPG')\n",
    "print(my_img.shape)"
   ]
  },
  {
   "cell_type": "code",
   "execution_count": 4,
   "metadata": {},
   "outputs": [
    {
     "name": "stdout",
     "output_type": "stream",
     "text": [
      "[[437 416  40  40]\n",
      " [531 391  45  45]]\n"
     ]
    }
   ],
   "source": [
    "face_only=facehaar.detectMultiScale(my_img,1.15,5)\n",
    "print(face_only)\n",
    "for x,y,w,h in face_only:\n",
    "    cv2.rectangle(my_img,(x,y),(x+w,y+h),(0,0,255),2)"
   ]
  },
  {
   "cell_type": "code",
   "execution_count": 5,
   "metadata": {},
   "outputs": [],
   "source": [
    "cv2.imshow('face',my_img)\n",
    "cv2.waitKey(0)\n",
    "cv2.destroyAllWindows()"
   ]
  },
  {
   "cell_type": "code",
   "execution_count": null,
   "metadata": {},
   "outputs": [],
   "source": [
    "# Another image\n",
    "\n"
   ]
  },
  {
   "cell_type": "code",
   "execution_count": 8,
   "metadata": {},
   "outputs": [
    {
     "name": "stdout",
     "output_type": "stream",
     "text": [
      "(400, 712, 3)\n",
      "[[183 107  34  34]\n",
      " [397 108  35  35]\n",
      " [453 233  28  28]\n",
      " [265 122  29  29]\n",
      " [265 230  35  35]\n",
      " [479 124  35  35]\n",
      " [ 48 214  32  32]\n",
      " [379 163  35  35]\n",
      " [ 46  67  43  43]\n",
      " [180 170  33  33]\n",
      " [565 173  40  40]\n",
      " [240  93  33  33]\n",
      " [511  92  38  38]\n",
      " [337  97  32  32]\n",
      " [119 183  34  34]\n",
      " [584  97  38  38]\n",
      " [664  83  40  40]\n",
      " [329 188  35  35]\n",
      " [419 186  41  41]\n",
      " [644 202  32  32]]\n",
      "#################################\n",
      "\n",
      "Total heads -  20\n"
     ]
    }
   ],
   "source": [
    "\n",
    "count=0\n",
    "my_img_fam=cv2.imread('romney-family.jpg')\n",
    "print(my_img_fam.shape)\n",
    "face_only_fam=facehaar.detectMultiScale(my_img_fam,1.15,5)\n",
    "print(face_only_fam)\n",
    "for x,y,w,h in face_only_fam:\n",
    "    cv2.rectangle(my_img_fam,(x,y),(x+w,y+h),(0,0,255),2)\n",
    "    count=count+1\n",
    "    \n",
    "cv2.imshow('face',my_img_fam)\n",
    "cv2.waitKey(0)\n",
    "cv2.destroyAllWindows()\n",
    "\n",
    "print('#################################\\n')\n",
    "print('Total heads - ',count)"
   ]
  },
  {
   "cell_type": "code",
   "execution_count": null,
   "metadata": {},
   "outputs": [],
   "source": []
  },
  {
   "cell_type": "code",
   "execution_count": null,
   "metadata": {},
   "outputs": [],
   "source": []
  },
  {
   "cell_type": "code",
   "execution_count": null,
   "metadata": {},
   "outputs": [],
   "source": []
  },
  {
   "cell_type": "code",
   "execution_count": null,
   "metadata": {},
   "outputs": [],
   "source": []
  },
  {
   "cell_type": "code",
   "execution_count": null,
   "metadata": {},
   "outputs": [],
   "source": []
  },
  {
   "cell_type": "markdown",
   "metadata": {},
   "source": [
    "# Face detection using Vedio "
   ]
  },
  {
   "cell_type": "code",
   "execution_count": 8,
   "metadata": {},
   "outputs": [],
   "source": [
    "cap=cv2.VideoCapture(0)"
   ]
  },
  {
   "cell_type": "code",
   "execution_count": 11,
   "metadata": {},
   "outputs": [
    {
     "name": "stdout",
     "output_type": "stream",
     "text": [
      "()\n",
      "()\n",
      "()\n",
      "()\n",
      "()\n",
      "()\n",
      "()\n",
      "()\n",
      "()\n",
      "()\n",
      "()\n",
      "()\n",
      "()\n",
      "()\n",
      "()\n",
      "()\n",
      "()\n",
      "()\n",
      "()\n",
      "()\n",
      "()\n",
      "()\n",
      "()\n",
      "()\n",
      "()\n",
      "()\n",
      "()\n",
      "()\n",
      "()\n",
      "()\n",
      "[[322 211 145 145]]\n"
     ]
    }
   ],
   "source": [
    "cap=cv2.VideoCapture(0)\n",
    "while cap.isOpened():\n",
    "    status,frame=cap.read()\n",
    "    face_det=facehaar.detectMultiScale(frame,1.15,5)\n",
    "    print(face_det)\n",
    "    for x,y,w,h in face_det:\n",
    "        cv2.rectangle(frame,(x,y),(x+w,y+h),(0,0,255),2)\n",
    "        cv2.putText(frame,'Insan',(x,y),cv2.FONT_HERSHEY_COMPLEX,1,(0,255,0),2,cv2.LINE_AA)\n",
    "    cv2.imshow('vedio',frame)\n",
    "    if cv2.waitKey(25) & 0xff == ord('q'):           \n",
    "        break\n",
    "\n",
    "cv2.destroyAllWindows()    \n",
    "cap.release()\n"
   ]
  },
  {
   "cell_type": "code",
   "execution_count": null,
   "metadata": {},
   "outputs": [],
   "source": [
    "if len(face_det) != 0 :\n",
    "        break"
   ]
  },
  {
   "cell_type": "markdown",
   "metadata": {},
   "source": [
    "# Read Camera And Open Link"
   ]
  },
  {
   "cell_type": "code",
   "execution_count": 2,
   "metadata": {},
   "outputs": [
    {
     "name": "stdout",
     "output_type": "stream",
     "text": [
      "Enter your Github username - \n",
      "sakshamk88\n",
      "()\n",
      "()\n",
      "()\n",
      "()\n",
      "()\n",
      "()\n",
      "()\n",
      "()\n",
      "()\n",
      "()\n",
      "()\n",
      "[[234 280 133 133]]\n"
     ]
    },
    {
     "data": {
      "text/plain": [
       "True"
      ]
     },
     "execution_count": 2,
     "metadata": {},
     "output_type": "execute_result"
    }
   ],
   "source": [
    "print('Enter your Github username - ')\n",
    "username=input()\n",
    "cap=cv2.VideoCapture(0)\n",
    "while cap.isOpened():\n",
    "    status,frame=cap.read()\n",
    "    face_det=facehaar.detectMultiScale(frame,1.15,5)\n",
    "    print(face_det)\n",
    "    if len(face_det) != 0 :\n",
    "        break\n",
    "    for x,y,w,h in face_det:\n",
    "        cv2.rectangle(frame,(x,y),(x+w,y+h),(0,0,255),2)\n",
    "        cv2.putText(frame,'Insan',(x,y),cv2.FONT_HERSHEY_COMPLEX,1,(0,255,0),2,cv2.LINE_AA)\n",
    "    cv2.imshow('vedio',frame)\n",
    "    if cv2.waitKey(25) & 0xff == ord('q'):           \n",
    "        break\n",
    "\n",
    "cv2.destroyAllWindows()    \n",
    "cap.release()\n",
    "web.open('https://github.com/'+username)\n"
   ]
  },
  {
   "cell_type": "code",
   "execution_count": null,
   "metadata": {},
   "outputs": [],
   "source": []
  }
 ],
 "metadata": {
  "kernelspec": {
   "display_name": "Python 3",
   "language": "python",
   "name": "python3"
  },
  "language_info": {
   "codemirror_mode": {
    "name": "ipython",
    "version": 3
   },
   "file_extension": ".py",
   "mimetype": "text/x-python",
   "name": "python",
   "nbconvert_exporter": "python",
   "pygments_lexer": "ipython3",
   "version": "3.6.4"
  }
 },
 "nbformat": 4,
 "nbformat_minor": 2
}
