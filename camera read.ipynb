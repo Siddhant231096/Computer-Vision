{
 "cells": [
  {
   "cell_type": "code",
   "execution_count": 1,
   "metadata": {},
   "outputs": [],
   "source": [
    "\n",
    "import cv2\n",
    "import numpy as np\n",
    "from numpy import zeros\n"
   ]
  },
  {
   "cell_type": "code",
   "execution_count": 2,
   "metadata": {},
   "outputs": [],
   "source": [
    "# to install opencv env --- pip instll opencv-contrib-"
   ]
  },
  {
   "cell_type": "code",
   "execution_count": 1,
   "metadata": {},
   "outputs": [
    {
     "name": "stdout",
     "output_type": "stream",
     "text": [
      "# conda environments:\n",
      "#\n",
      "base                  *  C:\\Anaconda\n",
      "opencv-env               C:\\Anaconda\\envs\\opencv-env\n",
      "\n"
     ]
    }
   ],
   "source": [
    "!conda info --envs"
   ]
  },
  {
   "cell_type": "code",
   "execution_count": 2,
   "metadata": {},
   "outputs": [],
   "source": [
    "!activate opencv-env"
   ]
  },
  {
   "cell_type": "code",
   "execution_count": 3,
   "metadata": {},
   "outputs": [
    {
     "name": "stdout",
     "output_type": "stream",
     "text": [
      "4.0.0\n"
     ]
    }
   ],
   "source": [
    "print(cv2.__version__)"
   ]
  },
  {
   "cell_type": "code",
   "execution_count": 4,
   "metadata": {},
   "outputs": [],
   "source": [
    "vedio=[i for i in dir(cv2)   if 'Video' in i]"
   ]
  },
  {
   "cell_type": "code",
   "execution_count": 7,
   "metadata": {},
   "outputs": [
    {
     "name": "stdout",
     "output_type": "stream",
     "text": [
      "['VideoCapture', 'VideoWriter', 'VideoWriter_fourcc']\n"
     ]
    }
   ],
   "source": [
    "print(vedio)"
   ]
  },
  {
   "cell_type": "code",
   "execution_count": 2,
   "metadata": {},
   "outputs": [
    {
     "name": "stdout",
     "output_type": "stream",
     "text": [
      "True\n"
     ]
    }
   ],
   "source": [
    "cap=cv2.VideoCapture(0)\n",
    "print(cap.isOpened())    "
   ]
  },
  {
   "cell_type": "code",
   "execution_count": 3,
   "metadata": {},
   "outputs": [],
   "source": [
    "cap=cv2.VideoCapture(0)\n",
    "while cap.isOpened():          # we can use cap cap.isOpened()   it will give true values if camera is start and give false values if camera is off\n",
    "    \n",
    "    status,data=cap.read()\n",
    "    # to draw a line\n",
    "    #print(len(data))\n",
    "    \n",
    "    \n",
    "    \n",
    "    #cv2.line(data,(10,10),(200,250),(255,0,0),2)\n",
    "    cv2.rectangle(data,(200,200),(400,400),(0,255,0),2)\n",
    "    #cv2.circle(data,(300,300),50,(0,0,255),2)\n",
    "\n",
    "    # convert to BGR to Gray\n",
    "    gray_frame=cv2.cvtColor(data,cv2.COLOR_BGR2GRAY)\n",
    "    \n",
    "   # print(\"------------------\",gray_frame.shape)\n",
    "   # print(\"@@@@@@@@@@@@@@@@@@\",data.shape)\n",
    "    #hsv_frame=cv2.cvtColor(data,cv2.)\n",
    "    gray=np.broadcast_to(gray_frame[ :, :,np.newaxis],(480,640,3))\n",
    "    con=np.concatenate((data,gray),axis=1)\n",
    "    cv2.imshow('concatinated',con)\n",
    "    #cv2.imshow('live',data)                       # this contain status(TRUE means ON camera),data(Came from camera the image )\n",
    "    #cv2.imshow('live1',gray_frame)\n",
    "    \n",
    "    \n",
    "   # cv2.imshow('live2',hsv_frame)\n",
    "    # 25 milisecound mai window close ho jayegi\n",
    "\n",
    "    if cv2.waitKey(25) & 0xff == ord('q'):           # 0xff for keyboard input if equal to ord--for ascii of q button  then close it\n",
    "        break\n",
    "\n",
    "cv2.destroyAllWindows()    #destroying all windows having frames\n",
    "cap.release()         # now you can use the same camera with another app\n",
    "\n"
   ]
  },
  {
   "cell_type": "code",
   "execution_count": 3,
   "metadata": {},
   "outputs": [
    {
     "ename": "ValueError",
     "evalue": "all the input arrays must have same number of dimensions",
     "output_type": "error",
     "traceback": [
      "\u001b[1;31m---------------------------------------------------------------------------\u001b[0m",
      "\u001b[1;31mValueError\u001b[0m                                Traceback (most recent call last)",
      "\u001b[1;32m<ipython-input-3-354614472bff>\u001b[0m in \u001b[0;36m<module>\u001b[1;34m()\u001b[0m\n\u001b[0;32m      6\u001b[0m     \u001b[0mdata1\u001b[0m\u001b[1;33m=\u001b[0m\u001b[0mcv2\u001b[0m\u001b[1;33m.\u001b[0m\u001b[0mcvtColor\u001b[0m\u001b[1;33m(\u001b[0m\u001b[0mdata\u001b[0m\u001b[1;33m[\u001b[0m\u001b[1;33m:\u001b[0m\u001b[1;36m240\u001b[0m\u001b[1;33m,\u001b[0m\u001b[1;33m:\u001b[0m\u001b[1;36m320\u001b[0m\u001b[1;33m,\u001b[0m\u001b[1;33m:\u001b[0m\u001b[1;33m]\u001b[0m\u001b[1;33m,\u001b[0m\u001b[0mcv2\u001b[0m\u001b[1;33m.\u001b[0m\u001b[0mCOLOR_BGR2GRAY\u001b[0m\u001b[1;33m)\u001b[0m\u001b[1;33m\u001b[0m\u001b[0m\n\u001b[0;32m      7\u001b[0m     \u001b[0mdata2\u001b[0m\u001b[1;33m=\u001b[0m\u001b[0mdata\u001b[0m\u001b[1;33m[\u001b[0m\u001b[1;36m240\u001b[0m\u001b[1;33m:\u001b[0m\u001b[1;33m,\u001b[0m\u001b[1;36m320\u001b[0m\u001b[1;33m:\u001b[0m\u001b[1;33m,\u001b[0m\u001b[1;33m:\u001b[0m\u001b[1;33m]\u001b[0m\u001b[1;33m\u001b[0m\u001b[0m\n\u001b[1;32m----> 8\u001b[1;33m     \u001b[0mcon\u001b[0m\u001b[1;33m=\u001b[0m\u001b[0mnp\u001b[0m\u001b[1;33m.\u001b[0m\u001b[0mconcatenate\u001b[0m\u001b[1;33m(\u001b[0m\u001b[1;33m(\u001b[0m\u001b[0mdata1\u001b[0m\u001b[1;33m,\u001b[0m\u001b[0mdata2\u001b[0m\u001b[1;33m)\u001b[0m\u001b[1;33m,\u001b[0m\u001b[0maxis\u001b[0m\u001b[1;33m=\u001b[0m\u001b[1;36m1\u001b[0m\u001b[1;33m)\u001b[0m\u001b[1;33m\u001b[0m\u001b[0m\n\u001b[0m\u001b[0;32m      9\u001b[0m     \u001b[0mcv2\u001b[0m\u001b[1;33m.\u001b[0m\u001b[0mimshow\u001b[0m\u001b[1;33m(\u001b[0m\u001b[1;34m'con'\u001b[0m\u001b[1;33m,\u001b[0m\u001b[0mcon\u001b[0m\u001b[1;33m)\u001b[0m\u001b[1;33m\u001b[0m\u001b[0m\n\u001b[0;32m     10\u001b[0m     \u001b[1;32mif\u001b[0m \u001b[0mcv2\u001b[0m\u001b[1;33m.\u001b[0m\u001b[0mwaitKey\u001b[0m\u001b[1;33m(\u001b[0m\u001b[1;36m25\u001b[0m\u001b[1;33m)\u001b[0m \u001b[1;33m&\u001b[0m \u001b[1;36m0xff\u001b[0m \u001b[1;33m==\u001b[0m \u001b[0mord\u001b[0m\u001b[1;33m(\u001b[0m\u001b[1;34m'q'\u001b[0m\u001b[1;33m)\u001b[0m\u001b[1;33m:\u001b[0m           \u001b[1;31m# 0xff for keyboard input if equal to ord--for ascii of q button  then close it\u001b[0m\u001b[1;33m\u001b[0m\u001b[0m\n",
      "\u001b[1;31mValueError\u001b[0m: all the input arrays must have same number of dimensions"
     ]
    }
   ],
   "source": [
    "cap=cv2.VideoCapture(0)\n",
    "frames=0\n",
    "while cap.isOpened():          # we can use cap cap.isOpened()   it will give true values if camera is start and give false values if camera is off\n",
    "    \n",
    "    status,data=cap.read()\n",
    "    data1=cv2.cvtColor(data[:240,:320,:],cv2.COLOR_BGR2GRAY)\n",
    "    \n",
    "    data2=data[240:,320:,:]\n",
    "    con=np.concatenate((data1,data2),axis=1)\n",
    "    cv2.imshow('con',con)\n",
    "    if cv2.waitKey(25) & 0xff == ord('q'):           # 0xff for keyboard input if equal to ord--for ascii of q button  then close it\n",
    "        break\n",
    "   # print(data.shape)\n",
    "cv2.destroyAllWindows()    #destroying all windows having frames\n",
    "cap.release()  "
   ]
  },
  {
   "cell_type": "code",
   "execution_count": 7,
   "metadata": {},
   "outputs": [
    {
     "ename": "error",
     "evalue": "OpenCV(4.0.0) C:\\projects\\opencv-python\\opencv\\modules\\core\\src\\merge.cpp:286: error: (-215:Assertion failed) mv && n > 0 in function 'cv::merge'\n",
     "output_type": "error",
     "traceback": [
      "\u001b[1;31m---------------------------------------------------------------------------\u001b[0m",
      "\u001b[1;31merror\u001b[0m                                     Traceback (most recent call last)",
      "\u001b[1;32m<ipython-input-7-1d615cf89375>\u001b[0m in \u001b[0;36m<module>\u001b[1;34m()\u001b[0m\n\u001b[0;32m     17\u001b[0m     \u001b[1;31m#cv2.imshow('live',data)                      # this contain status(TRUE means ON camera),data(Came from camera the image )\u001b[0m\u001b[1;33m\u001b[0m\u001b[1;33m\u001b[0m\u001b[0m\n\u001b[0;32m     18\u001b[0m     \u001b[1;31m#cv2.imshow('live1',gray_frame)\u001b[0m\u001b[1;33m\u001b[0m\u001b[1;33m\u001b[0m\u001b[0m\n\u001b[1;32m---> 19\u001b[1;33m     \u001b[0mcv2\u001b[0m\u001b[1;33m.\u001b[0m\u001b[0mmerge\u001b[0m\u001b[1;33m(\u001b[0m\u001b[0mcv2\u001b[0m\u001b[1;33m.\u001b[0m\u001b[0mimshow\u001b[0m\u001b[1;33m(\u001b[0m\u001b[1;34m'live'\u001b[0m\u001b[1;33m,\u001b[0m\u001b[0mdata\u001b[0m\u001b[1;33m)\u001b[0m\u001b[1;33m,\u001b[0m\u001b[0mcv2\u001b[0m\u001b[1;33m.\u001b[0m\u001b[0mimshow\u001b[0m\u001b[1;33m(\u001b[0m\u001b[1;34m'live1'\u001b[0m\u001b[1;33m,\u001b[0m\u001b[0mgray_frame\u001b[0m\u001b[1;33m)\u001b[0m\u001b[1;33m)\u001b[0m\u001b[1;33m\u001b[0m\u001b[0m\n\u001b[0m\u001b[0;32m     20\u001b[0m \u001b[1;33m\u001b[0m\u001b[0m\n\u001b[0;32m     21\u001b[0m     \u001b[0mframes\u001b[0m\u001b[1;33m=\u001b[0m\u001b[0mframes\u001b[0m\u001b[1;33m+\u001b[0m\u001b[1;36m1\u001b[0m\u001b[1;33m\u001b[0m\u001b[0m\n",
      "\u001b[1;31merror\u001b[0m: OpenCV(4.0.0) C:\\projects\\opencv-python\\opencv\\modules\\core\\src\\merge.cpp:286: error: (-215:Assertion failed) mv && n > 0 in function 'cv::merge'\n"
     ]
    }
   ],
   "source": [
    "cap=cv2.VideoCapture(0)\n",
    "frames=0\n",
    "while frames<100:          # we can use cap cap.isOpened()   it will give true values if camera is start and give false values if camera is off\n",
    "    \n",
    "    status,data=cap.read()\n",
    "    # to draw a line\n",
    "    \n",
    "    \n",
    "    \n",
    "    cv2.line(data,(10,10),(200,250),(255,0,0),2)\n",
    "    cv2.rectangle(data,(200,200),(400,400),(0,255,0),2)\n",
    "    cv2.circle(data,(300,300),50,(0,0,255),2)\n",
    "    \n",
    "    # convert to BGR to Gray\n",
    "    gray_frame=cv2.cvtColor(data,cv2.COLOR_BGR2GRAY)\n",
    "    #hsv_frame=cv2.cvtColor(data,cv2.)\n",
    "    #cv2.imshow('live',data)                      # this contain status(TRUE means ON camera),data(Came from camera the image )\n",
    "    #cv2.imshow('live1',gray_frame)\n",
    "    cv2.merge(cv2.imshow('live',data),cv2.imshow('live1',gray_frame))\n",
    "    \n",
    "    frames=frames+1\n",
    "    \n",
    "    \n",
    "   # cv2.imshow('live2',hsv_frame)\n",
    "    # 25 milisecound mai window close ho jayegi\n",
    "\n",
    "    if cv2.waitKey(25) & 0xff == ord('q'):           # 0xff for keyboard input if equal to ord--for ascii of q button  then close it\n",
    "        break\n",
    "\n",
    "cv2.destroyAllWindows()    #destroying all windows having frames\n",
    "cap.release()         # now you can use the same camera with another app\n",
    "\n",
    "\n"
   ]
  },
  {
   "cell_type": "code",
   "execution_count": 19,
   "metadata": {},
   "outputs": [
    {
     "data": {
      "text/plain": [
       "(480, 640)"
      ]
     },
     "execution_count": 19,
     "metadata": {},
     "output_type": "execute_result"
    }
   ],
   "source": [
    "gray_frame.shape"
   ]
  },
  {
   "cell_type": "code",
   "execution_count": 22,
   "metadata": {},
   "outputs": [],
   "source": []
  },
  {
   "cell_type": "code",
   "execution_count": null,
   "metadata": {},
   "outputs": [],
   "source": []
  },
  {
   "cell_type": "code",
   "execution_count": 3,
   "metadata": {},
   "outputs": [],
   "source": [
    "import cv2\n",
    "import numpy as np\n",
    "\n",
    "# Create a dummy input image.\n",
    "canvas = np.zeros((100, 100), dtype=np.uint8)\n",
    "canvas = cv2.circle(canvas, (50, 50), 20, (255,), -1)\n",
    "\n",
    "kernel = np.array([[-1, -1, -1],\n",
    "                   [-1, 4, -1],\n",
    "                   [-1, -1, -1]])\n",
    "\n",
    "dst = cv2.filter2D(canvas, -1, kernel)\n",
    "#cv2.imwrite(\"filtered.png\", dst)\n",
    "\n",
    "cv2.imshow(\"filtered.png\", dst)\n",
    "\n",
    "cv2.waitKey(0)\n",
    "\n",
    "cv2.destroyAllWindows()"
   ]
  },
  {
   "cell_type": "code",
   "execution_count": 7,
   "metadata": {},
   "outputs": [
    {
     "ename": "AttributeError",
     "evalue": "module 'cv2.cv2' has no attribute 'CV_RGB2YCrCb'",
     "output_type": "error",
     "traceback": [
      "\u001b[1;31m---------------------------------------------------------------------------\u001b[0m",
      "\u001b[1;31mAttributeError\u001b[0m                            Traceback (most recent call last)",
      "\u001b[1;32m<ipython-input-7-ba0804eed600>\u001b[0m in \u001b[0;36m<module>\u001b[1;34m()\u001b[0m\n\u001b[0;32m      1\u001b[0m \u001b[0mim\u001b[0m\u001b[1;33m=\u001b[0m\u001b[1;34m'photo1.JPG'\u001b[0m\u001b[1;33m\u001b[0m\u001b[0m\n\u001b[0;32m      2\u001b[0m \u001b[1;33m\u001b[0m\u001b[0m\n\u001b[1;32m----> 3\u001b[1;33m \u001b[0mimgcv\u001b[0m \u001b[1;33m=\u001b[0m \u001b[0mcv2\u001b[0m\u001b[1;33m.\u001b[0m\u001b[0mcvtColor\u001b[0m\u001b[1;33m(\u001b[0m\u001b[0mnp\u001b[0m\u001b[1;33m.\u001b[0m\u001b[0masarray\u001b[0m\u001b[1;33m(\u001b[0m\u001b[0mim\u001b[0m\u001b[1;33m)\u001b[0m\u001b[1;33m,\u001b[0m \u001b[0mcv2\u001b[0m\u001b[1;33m.\u001b[0m\u001b[0mCV_RGB2YCrCb\u001b[0m\u001b[1;33m)\u001b[0m\u001b[1;33m\u001b[0m\u001b[0m\n\u001b[0m\u001b[0;32m      4\u001b[0m \u001b[1;31m#Get the channel 0\u001b[0m\u001b[1;33m\u001b[0m\u001b[1;33m\u001b[0m\u001b[0m\n\u001b[0;32m      5\u001b[0m \u001b[0mimgcv1\u001b[0m \u001b[1;33m=\u001b[0m \u001b[0mcv2\u001b[0m\u001b[1;33m.\u001b[0m\u001b[0msplit\u001b[0m\u001b[1;33m(\u001b[0m\u001b[0mimgcv\u001b[0m\u001b[1;33m)\u001b[0m\u001b[1;33m[\u001b[0m\u001b[1;36m0\u001b[0m\u001b[1;33m]\u001b[0m\u001b[1;33m\u001b[0m\u001b[0m\n",
      "\u001b[1;31mAttributeError\u001b[0m: module 'cv2.cv2' has no attribute 'CV_RGB2YCrCb'"
     ]
    }
   ],
   "source": [
    "im='photo1.JPG'\n",
    "imgcv = cv2.cvtColor(np.asarray(im), cv2.CV_RGB2YCrCb)\n",
    "#Get the channel 0 \n",
    "imgcv1 = cv2.split(imgcv)[0] \n",
    "cv2.boxFilter(imgcv1, 0, (7,7), imgcv1, (-1,-1), False, cv2.BORDER_DEFAULT)"
   ]
  },
  {
   "cell_type": "code",
   "execution_count": 1,
   "metadata": {},
   "outputs": [],
   "source": [
    "import cv2\n",
    "cap=cv2.VideoCapture(0)\n",
    "i=0\n",
    "\n",
    "while i<100:\n",
    "    status,frame=cap.read()\n",
    "    name=\"./Click\"+str(i)+\".jpg\"\n",
    "    cv2.imwrite(name,frame)\n",
    "    i=i+1\n",
    "    \n",
    "cap.release()\n",
    "cv2.destroyAllWindows()\n",
    "    \n"
   ]
  },
  {
   "cell_type": "code",
   "execution_count": null,
   "metadata": {},
   "outputs": [],
   "source": []
  }
 ],
 "metadata": {
  "kernelspec": {
   "display_name": "Python 3",
   "language": "python",
   "name": "python3"
  },
  "language_info": {
   "codemirror_mode": {
    "name": "ipython",
    "version": 3
   },
   "file_extension": ".py",
   "mimetype": "text/x-python",
   "name": "python",
   "nbconvert_exporter": "python",
   "pygments_lexer": "ipython3",
   "version": "3.6.4"
  }
 },
 "nbformat": 4,
 "nbformat_minor": 2
}
